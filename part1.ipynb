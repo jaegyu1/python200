{
 "cells": [
  {
   "cell_type": "markdown",
   "metadata": {},
   "source": [
    "# Part 1"
   ]
  },
  {
   "cell_type": "markdown",
   "metadata": {},
   "source": [
    "## 001"
   ]
  },
  {
   "cell_type": "code",
   "execution_count": 1,
   "metadata": {},
   "outputs": [
    {
     "name": "stdout",
     "output_type": "stream",
     "text": [
      "안녕하세요\n"
     ]
    }
   ],
   "source": [
    "print('안녕하세요')"
   ]
  },
  {
   "cell_type": "markdown",
   "metadata": {},
   "source": [
    "## 003"
   ]
  },
  {
   "cell_type": "code",
   "execution_count": 2,
   "metadata": {},
   "outputs": [],
   "source": [
    "_myname = 'samsjang'"
   ]
  },
  {
   "cell_type": "code",
   "execution_count": 3,
   "metadata": {},
   "outputs": [],
   "source": [
    "MyName = 'alice'"
   ]
  },
  {
   "cell_type": "code",
   "execution_count": 5,
   "metadata": {},
   "outputs": [
    {
     "name": "stdout",
     "output_type": "stream",
     "text": [
      "alice\n"
     ]
    }
   ],
   "source": [
    "print(MyName)"
   ]
  },
  {
   "cell_type": "code",
   "execution_count": 1,
   "metadata": {},
   "outputs": [],
   "source": [
    "# 변수명의 첫 문자는 밑줄 문자'_' 또는 영문자로 시작해야 한다.\n",
    "# 변수명은 대소 문자를 구분한다.\n",
    "# 파이썬 예약어 안됨"
   ]
  },
  {
   "cell_type": "code",
   "execution_count": 4,
   "metadata": {},
   "outputs": [
    {
     "name": "stdout",
     "output_type": "stream",
     "text": [
      "['False', 'None', 'True', 'and', 'as', 'assert', 'break', 'class', 'continue', 'def', 'del', 'elif', 'else', 'except', 'finally', 'for', 'from', 'global', 'if', 'import', 'in', 'is', 'lambda', 'nonlocal', 'not', 'or', 'pass', 'raise', 'return', 'try', 'while', 'with', 'yield']\n"
     ]
    }
   ],
   "source": [
    "#파이썬 예약어 조회\n",
    "import keyword\n",
    "\n",
    "print(keyword.kwlist)"
   ]
  },
  {
   "cell_type": "code",
   "execution_count": 5,
   "metadata": {},
   "outputs": [],
   "source": [
    "# 내장 함수의 이름을 변수로 사용한다면 해당하는 내장함수는 사용할수 없게된다.\n",
    "# abs=3 <- 이렇게 하면 안됨"
   ]
  },
  {
   "cell_type": "markdown",
   "metadata": {},
   "source": [
    "## 004"
   ]
  },
  {
   "cell_type": "code",
   "execution_count": 6,
   "metadata": {},
   "outputs": [],
   "source": [
    "number = 1\n",
    "pi = 3.14\n",
    "flag = True\n",
    "char = 'x'\n",
    "chars = 'I love Python'"
   ]
  },
  {
   "cell_type": "code",
   "execution_count": 8,
   "metadata": {},
   "outputs": [],
   "source": [
    "# 파이썬에서는 변수에 값을 대입하면 그 값의 자료형에 따라 변수의 자료형이 자동적으로 정해진다.\n",
    "# 변수에 값이 대입되는 시점에 변수의 자료형은 자동적으로 다시 정해 진다."
   ]
  },
  {
   "cell_type": "code",
   "execution_count": 10,
   "metadata": {},
   "outputs": [
    {
     "data": {
      "text/plain": [
       "'\\n이부분은 주석 \\n입니다.\\n'"
      ]
     },
     "execution_count": 10,
     "metadata": {},
     "output_type": "execute_result"
    }
   ],
   "source": [
    "\"\"\"\n",
    "이부분은 주석 \n",
    "입니다.\n",
    "\"\"\""
   ]
  },
  {
   "cell_type": "code",
   "execution_count": 11,
   "metadata": {},
   "outputs": [
    {
     "data": {
      "text/plain": [
       "'\\n이부분은 주석 입니다.\\n'"
      ]
     },
     "execution_count": 11,
     "metadata": {},
     "output_type": "execute_result"
    }
   ],
   "source": [
    "'''\n",
    "이부분은 주석 입니다.\n",
    "'''"
   ]
  },
  {
   "cell_type": "markdown",
   "metadata": {},
   "source": [
    "## 006 자료형 개념 배우기"
   ]
  },
  {
   "cell_type": "code",
   "execution_count": 12,
   "metadata": {},
   "outputs": [],
   "source": [
    "list_data = [1,2,3,4,'a']"
   ]
  },
  {
   "cell_type": "code",
   "execution_count": 15,
   "metadata": {},
   "outputs": [],
   "source": [
    "tuple_data = (1,2,3,'a')"
   ]
  },
  {
   "cell_type": "code",
   "execution_count": 16,
   "metadata": {},
   "outputs": [],
   "source": [
    "dict_data = {1:True, 2:'alice', 3:3}"
   ]
  },
  {
   "cell_type": "code",
   "execution_count": 17,
   "metadata": {},
   "outputs": [],
   "source": [
    "# 파이썬에서는 반복 가능한 자료형이라는 개념이 있다 for문에서 in 다음에 사용될 수 있는 자료형을 말한다. 파이썬에서 반속가능한\n",
    "# 자료형으로 취급되는 것은 문자열, 리스트, 튜플, 사전 이외의 다양한 객체 형태로 존재한다."
   ]
  },
  {
   "cell_type": "code",
   "execution_count": 20,
   "metadata": {},
   "outputs": [
    {
     "name": "stdout",
     "output_type": "stream",
     "text": [
      "#%\n"
     ]
    }
   ],
   "source": [
    "print('#',end='')\n",
    "print('%')"
   ]
  },
  {
   "cell_type": "markdown",
   "metadata": {},
   "source": [
    "## 008 들여쓰기 개념 배우기"
   ]
  },
  {
   "cell_type": "code",
   "execution_count": 21,
   "metadata": {},
   "outputs": [],
   "source": [
    "#파이썬에는 실행 코드 부분을 묶어주는 {}괄호가 없다"
   ]
  },
  {
   "cell_type": "code",
   "execution_count": 22,
   "metadata": {},
   "outputs": [
    {
     "name": "stdout",
     "output_type": "stream",
     "text": [
      "a가 listdata에 있습니다.\n",
      "['a', 'b', 'c']\n"
     ]
    }
   ],
   "source": [
    "listdata = ['a','b','c']\n",
    "if 'a' in listdata:\n",
    "    print('a가 listdata에 있습니다.')\n",
    "    print(listdata)\n",
    "else:\n",
    "    print('a가 listdata에 존재하지 않습니다.')"
   ]
  },
  {
   "cell_type": "code",
   "execution_count": 24,
   "metadata": {},
   "outputs": [],
   "source": [
    "# 파이썬에서 제어문이나 함수이름, 클래스 이름 뒤에 콜론(:)으로 제어문, 함수이름, 클래스 이름의 끝을 표시하며 ':'다음에 \n",
    "#실행 코드를 작성한다. "
   ]
  },
  {
   "cell_type": "markdown",
   "metadata": {},
   "source": [
    "## 009 if문 개념배우기(1)"
   ]
  },
  {
   "cell_type": "code",
   "execution_count": 25,
   "metadata": {},
   "outputs": [],
   "source": [
    "x = 1\n",
    "y = 2"
   ]
  },
  {
   "cell_type": "code",
   "execution_count": 28,
   "metadata": {},
   "outputs": [
    {
     "name": "stdout",
     "output_type": "stream",
     "text": [
      "x가 y보다 작습니다.\n"
     ]
    }
   ],
   "source": [
    "if x>=y:\n",
    "    print('x가 y보다 크거나 같습니다.')\n",
    "else:\n",
    "    print('x가 y보다 작습니다.')"
   ]
  },
  {
   "cell_type": "markdown",
   "metadata": {},
   "source": [
    "## 010 if문 개념배우기(2)"
   ]
  },
  {
   "cell_type": "code",
   "execution_count": 29,
   "metadata": {},
   "outputs": [
    {
     "name": "stdout",
     "output_type": "stream",
     "text": [
      "x가 y보다 작습니다.\n"
     ]
    }
   ],
   "source": [
    "x=1\n",
    "y=2\n",
    "if x>y:\n",
    "    print('x가 y보다 큽니다.')\n",
    "elif x<y:\n",
    "    print('x가 y보다 작습니다.')\n",
    "else:\n",
    "    print('x==y 입니다.')"
   ]
  },
  {
   "cell_type": "markdown",
   "metadata": {},
   "source": [
    "## 011 for문 개념 배우기(1)"
   ]
  },
  {
   "cell_type": "code",
   "execution_count": 31,
   "metadata": {},
   "outputs": [
    {
     "name": "stdout",
     "output_type": "stream",
     "text": [
      "1 2 3 4 5 "
     ]
    }
   ],
   "source": [
    "scope = [1,2,3,4,5]\n",
    "for x in scope:\n",
    "    print(x,end=' ')"
   ]
  },
  {
   "cell_type": "code",
   "execution_count": 34,
   "metadata": {},
   "outputs": [],
   "source": [
    "#for 문의 번위로 사용되는 것은 시퀀스 자료형 또는 반복 가능한 자료여야 한다.\n",
    "#. 문자열\n",
    "#. 리스트나 튜플\n",
    "#. 사전\n",
    "#. range()\n",
    "#. 그 외 반복 가능한 객체"
   ]
  },
  {
   "cell_type": "code",
   "execution_count": 35,
   "metadata": {},
   "outputs": [
    {
     "name": "stdout",
     "output_type": "stream",
     "text": [
      "a\n",
      "b\n",
      "c\n",
      "d\n",
      "e\n",
      "f\n"
     ]
    }
   ],
   "source": [
    "str = 'abcdef'\n",
    "for x in str:\n",
    "    print(x)"
   ]
  },
  {
   "cell_type": "code",
   "execution_count": 36,
   "metadata": {},
   "outputs": [
    {
     "name": "stdout",
     "output_type": "stream",
     "text": [
      "a\n",
      "b\n",
      "c\n"
     ]
    }
   ],
   "source": [
    "ascii_code = {'a':97, 'b':98, 'c':99}\n",
    "for c in ascii_code:\n",
    "    print(c)"
   ]
  },
  {
   "cell_type": "code",
   "execution_count": 38,
   "metadata": {},
   "outputs": [
    {
     "name": "stdout",
     "output_type": "stream",
     "text": [
      "0,1,2,3,4,5,6,7,8,9,"
     ]
    }
   ],
   "source": [
    "for i in range(10):\n",
    "    print(i, end=',')"
   ]
  },
  {
   "cell_type": "markdown",
   "metadata": {},
   "source": [
    "## 012 for문 개념 배우기 (2)"
   ]
  },
  {
   "cell_type": "code",
   "execution_count": 39,
   "metadata": {},
   "outputs": [
    {
     "name": "stdout",
     "output_type": "stream",
     "text": [
      "1\n",
      "2\n",
      "3\n"
     ]
    }
   ],
   "source": [
    "scope  = [1,2,3,4,5]\n",
    "for x in scope:\n",
    "    print(x)\n",
    "    if x<3:\n",
    "        continue\n",
    "    else:\n",
    "        break"
   ]
  },
  {
   "cell_type": "markdown",
   "metadata": {},
   "source": [
    "## 013 for문 개념 배우기 (3)"
   ]
  },
  {
   "cell_type": "code",
   "execution_count": 40,
   "metadata": {},
   "outputs": [
    {
     "name": "stdout",
     "output_type": "stream",
     "text": [
      "1\n"
     ]
    }
   ],
   "source": [
    "scope = [1,2,3]\n",
    "for x in scope:\n",
    "    print(x)\n",
    "    break\n",
    "else:\n",
    "    print('Perfect')"
   ]
  },
  {
   "cell_type": "code",
   "execution_count": 41,
   "metadata": {},
   "outputs": [],
   "source": [
    "# for 반복문이 break에 의해 중단됨이 없이 정상적으로 모두 실행되어야만 특정 코드를 실행하게 할경우 for ~ else를 사용한다."
   ]
  },
  {
   "cell_type": "code",
   "execution_count": 42,
   "metadata": {},
   "outputs": [
    {
     "name": "stdout",
     "output_type": "stream",
     "text": [
      "1\n",
      "2\n",
      "3\n",
      "Perfect\n"
     ]
    }
   ],
   "source": [
    "scope = [1,2,3]\n",
    "for i in scope:\n",
    "    print(i)\n",
    "else:\n",
    "    print('Perfect')"
   ]
  },
  {
   "cell_type": "markdown",
   "metadata": {},
   "source": [
    "## 014 while문 개념 배우기"
   ]
  },
  {
   "cell_type": "code",
   "execution_count": 43,
   "metadata": {},
   "outputs": [
    {
     "name": "stdout",
     "output_type": "stream",
     "text": [
      "3\n",
      "4\n",
      "5\n",
      "6\n",
      "7\n",
      "8\n"
     ]
    }
   ],
   "source": [
    "x=0\n",
    "while x<10:\n",
    "    x=x+1\n",
    "    if x<3:\n",
    "        continue\n",
    "    print(x)\n",
    "    if x>7:\n",
    "        break"
   ]
  },
  {
   "cell_type": "markdown",
   "metadata": {},
   "source": [
    "## 015 None 개념 배우기"
   ]
  },
  {
   "cell_type": "code",
   "execution_count": 44,
   "metadata": {},
   "outputs": [],
   "source": [
    "val = None\n",
    "condition = 1\n",
    "if condition == 1:\n",
    "    val = [1,2,3]\n",
    "else:\n",
    "    val = 'I love Python'"
   ]
  },
  {
   "cell_type": "code",
   "execution_count": 45,
   "metadata": {},
   "outputs": [
    {
     "name": "stdout",
     "output_type": "stream",
     "text": [
      "[1, 2, 3]\n"
     ]
    }
   ],
   "source": [
    "print(val)"
   ]
  },
  {
   "cell_type": "code",
   "execution_count": 1,
   "metadata": {},
   "outputs": [],
   "source": [
    "# None은 Type.NoneType의 유일한 값으로, 값이 존재하지 않는 변수에 대입하여 이 변수에 아무런 값이 없다는 것을 나타내기 위해 주로 활용된다."
   ]
  },
  {
   "cell_type": "code",
   "execution_count": 2,
   "metadata": {},
   "outputs": [],
   "source": [
    "# 주로 어떤 변수에 대입할 자료형을 결정하지 않은 상태로 선언할때 None를 대입하거나, 함수에서 아무값도 리턴하지 않고 끝낼때 사용하기도 한다\n",
    "# 함수 로직에서 예외가 발생하거나 오류가 발생하여 None을 리턴하여 종료하면 이 함수를 호출한 쪽에서 호출한 함수가 실행 도중 오류가 발생하여\n",
    "# 비정상적으로 종료 되었음을 알 수 있게 한다."
   ]
  }
 ],
 "metadata": {
  "kernelspec": {
   "display_name": "Python 3",
   "language": "python",
   "name": "python3"
  },
  "language_info": {
   "codemirror_mode": {
    "name": "ipython",
    "version": 3
   },
   "file_extension": ".py",
   "mimetype": "text/x-python",
   "name": "python",
   "nbconvert_exporter": "python",
   "pygments_lexer": "ipython3",
   "version": "3.6.10"
  }
 },
 "nbformat": 4,
 "nbformat_minor": 4
}
